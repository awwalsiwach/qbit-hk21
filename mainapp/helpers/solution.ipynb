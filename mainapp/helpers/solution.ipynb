{
 "cells": [
  {
   "cell_type": "code",
   "execution_count": 48,
   "outputs": [],
   "source": [
    "def solution(vanNumber, areaNumber, doseNumber, areas, doses):\n",
    "    count = [0] * areaNumber\n",
    "    wastage = [0] * areaNumber\n",
    "    print('Before',areas,'\\n')\n",
    "    if vanNumber==1:\n",
    "        for i in range(areaNumber):\n",
    "            for i in range(areaNumber):\n",
    "                if areas[i]==0:\n",
    "                    continue\n",
    "                elif count[i]== 1:\n",
    "                    wastage[i] = doseNumber - areas[i]\n",
    "                    areas[i] = 0\n",
    "                    continue\n",
    "                elif areas[i]<=doseNumber:\n",
    "                    count[i] += 1\n",
    "                elif areas[i]<doses[i]:\n",
    "                    areas[i] = abs(areas[i]-doses[i])\n",
    "                else:\n",
    "                    areas[i] -= doses[i]\n",
    "            print('After',areas,'\\n')\n",
    "    else:\n",
    "        pass\n",
    "\n",
    "    print('After',areas,'\\n')\n",
    "    return sum(wastage),areas\n"
   ],
   "metadata": {
    "collapsed": false,
    "pycharm": {
     "name": "#%%\n"
    }
   }
  },
  {
   "cell_type": "code",
   "execution_count": 49,
   "outputs": [
    {
     "name": "stdout",
     "output_type": "stream",
     "text": [
      "Before [15, 12, 100, 42, 50] \n",
      "\n",
      "After [5, 2, 70, 22, 20] \n",
      "\n",
      "After [5, 2, 40, 2, 10] \n",
      "\n",
      "After [0, 0, 10, 2, 10] \n",
      "\n",
      "After [0, 0, 10, 0, 0] \n",
      "\n",
      "After [0, 0, 0, 0, 0] \n",
      "\n",
      "After [0, 0, 0, 0, 0] \n",
      "\n"
     ]
    },
    {
     "data": {
      "text/plain": "(21, [0, 0, 0, 0, 0])"
     },
     "execution_count": 49,
     "metadata": {},
     "output_type": "execute_result"
    }
   ],
   "source": [
    "solution(1,5,10, [15,12,100,42,50], [10,10,30,20,30])"
   ],
   "metadata": {
    "collapsed": false,
    "pycharm": {
     "name": "#%%\n"
    }
   }
  },
  {
   "cell_type": "code",
   "execution_count": null,
   "outputs": [],
   "source": [],
   "metadata": {
    "collapsed": false,
    "pycharm": {
     "name": "#%%\n"
    }
   }
  }
 ],
 "metadata": {
  "kernelspec": {
   "display_name": "Python 3",
   "language": "python",
   "name": "python3"
  },
  "language_info": {
   "codemirror_mode": {
    "name": "ipython",
    "version": 2
   },
   "file_extension": ".py",
   "mimetype": "text/x-python",
   "name": "python",
   "nbconvert_exporter": "python",
   "pygments_lexer": "ipython2",
   "version": "2.7.6"
  }
 },
 "nbformat": 4,
 "nbformat_minor": 0
}